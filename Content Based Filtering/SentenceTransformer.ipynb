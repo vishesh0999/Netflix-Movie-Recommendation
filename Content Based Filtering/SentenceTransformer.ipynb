{
 "cells": [
  {
   "cell_type": "markdown",
   "metadata": {},
   "source": [
    "# Recommendation System using Sentence Transformer\n"
   ]
  },
  {
   "cell_type": "markdown",
   "metadata": {},
   "source": [
    "## Load csv into Pandas Dataframe\n"
   ]
  },
  {
   "cell_type": "code",
   "execution_count": 1,
   "metadata": {},
   "outputs": [],
   "source": [
    "import pandas as pd\n",
    "sent_df = pd.read_csv(\"../netflix_titles.csv\")\n"
   ]
  },
  {
   "cell_type": "code",
   "execution_count": 2,
   "metadata": {},
   "outputs": [],
   "source": [
    "# This is a sentence-transformers model: It maps sentences & paragraphs to a 768 dimensional dense vector space and can be used for tasks like clustering or semantic search.\n",
    "\n",
    "from sentence_transformers import SentenceTransformer\n",
    "\n",
    "model = SentenceTransformer(\"paraphrase-distilroberta-base-v1\")\n"
   ]
  },
  {
   "cell_type": "markdown",
   "metadata": {},
   "source": [
    "## Find Embeddings for all show descriptions in dataset.\n"
   ]
  },
  {
   "cell_type": "code",
   "execution_count": 3,
   "metadata": {},
   "outputs": [],
   "source": [
    "descriptions = sent_df[\"description\"].tolist()\n",
    "# print(descriptions)\n",
    "des_embeddings = []\n",
    "for i, des in enumerate(descriptions):\n",
    "    des_embeddings.append(model.encode(des))\n"
   ]
  },
  {
   "cell_type": "markdown",
   "metadata": {},
   "source": [
    "## For a query show_id let's find the top ten shows with the highest cosine similarity.\n"
   ]
  },
  {
   "cell_type": "code",
   "execution_count": 4,
   "metadata": {},
   "outputs": [],
   "source": [
    "import torch\n",
    "from sentence_transformers import util\n",
    "\n",
    "\n",
    "def recommend(query):\n",
    "    query_embedded = model.encode(query)\n",
    "    cosine_scores = util.pytorch_cos_sim(query_embedded, des_embeddings)\n",
    "    top10_matches = torch.argsort(cosine_scores, dim=-1, descending=True).tolist()[0][\n",
    "        1:11\n",
    "    ]\n",
    "    return top10_matches\n"
   ]
  },
  {
   "cell_type": "markdown",
   "metadata": {},
   "source": [
    "## Movie Recommender using sentence transformers\n"
   ]
  },
  {
   "cell_type": "code",
   "execution_count": 5,
   "metadata": {},
   "outputs": [
    {
     "name": "stdout",
     "output_type": "stream",
     "text": [
      "7260    Laddaland\n",
      "Name: title, dtype: object\n",
      "8279    The Diabolical\n",
      "Name: title, dtype: object\n",
      "1637    Don’t Listen\n",
      "Name: title, dtype: object\n",
      "7361    Lupt\n",
      "Name: title, dtype: object\n",
      "7936    Sardaar ji\n",
      "Name: title, dtype: object\n",
      "836    Ghost Lab\n",
      "Name: title, dtype: object\n",
      "5332    Demonic\n",
      "Name: title, dtype: object\n",
      "6845    Ghost House\n",
      "Name: title, dtype: object\n",
      "8060    Soul to Keep\n",
      "Name: title, dtype: object\n",
      "7488    Monster Family\n",
      "Name: title, dtype: object\n"
     ]
    },
    {
     "name": "stderr",
     "output_type": "stream",
     "text": [
      "/home/abishek-as/Netflix-NLP/Netflix-venv/lib/python3.8/site-packages/sentence_transformers/util.py:32: UserWarning: Creating a tensor from a list of numpy.ndarrays is extremely slow. Please consider converting the list to a single numpy.ndarray with numpy.array() before converting to a tensor. (Triggered internally at  ../torch/csrc/utils/tensor_new.cpp:201.)\n",
      "  b = torch.tensor(b)\n"
     ]
    }
   ],
   "source": [
    "title = \"The Conjuring\"\n",
    "query_show_des = sent_df.loc[sent_df[\"title\"] == title][\"description\"].to_list()[0]\n",
    "\n",
    "recommended_results = recommend(query_show_des)\n",
    "recommended_results = [x + 1 for x in recommended_results]\n",
    "\n",
    "for i in range(len(recommended_results)):\n",
    "    print(\n",
    "        sent_df[\"title\"].loc[\n",
    "            sent_df[\"show_id\"] == str(\"s\" + str(recommended_results[i]))\n",
    "        ]\n",
    "    )\n"
   ]
  }
 ],
 "metadata": {
  "interpreter": {
   "hash": "e5513b5e87afed32b4b464a8318c068353290a7a894d9053f4736bf54073946e"
  },
  "kernelspec": {
   "display_name": "Python 3.8.10 ('Netflix-venv': venv)",
   "language": "python",
   "name": "python3"
  },
  "language_info": {
   "codemirror_mode": {
    "name": "ipython",
    "version": 3
   },
   "file_extension": ".py",
   "mimetype": "text/x-python",
   "name": "python",
   "nbconvert_exporter": "python",
   "pygments_lexer": "ipython3",
   "version": "3.8.10"
  },
  "orig_nbformat": 4
 },
 "nbformat": 4,
 "nbformat_minor": 2
}
