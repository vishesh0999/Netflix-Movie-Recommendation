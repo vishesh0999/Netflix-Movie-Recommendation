{
 "cells": [
  {
   "cell_type": "markdown",
   "metadata": {},
   "source": [
    "# Recommendation System using Node2vec\n"
   ]
  },
  {
   "cell_type": "code",
   "execution_count": 1,
   "metadata": {},
   "outputs": [],
   "source": [
    "import pandas as pd"
   ]
  },
  {
   "cell_type": "code",
   "execution_count": 2,
   "metadata": {},
   "outputs": [
    {
     "name": "stderr",
     "output_type": "stream",
     "text": [
      "/home/abishek-as/Netflix-NLP/Netflix-venv/lib/python3.8/site-packages/tqdm/auto.py:22: TqdmWarning: IProgress not found. Please update jupyter and ipywidgets. See https://ipywidgets.readthedocs.io/en/stable/user_install.html\n",
      "  from .autonotebook import tqdm as notebook_tqdm\n"
     ]
    }
   ],
   "source": [
    "import networkx as nx  # create and store graph\n",
    "from node2vec import Node2Vec  # To run node2vec algorithm\n"
   ]
  },
  {
   "cell_type": "code",
   "execution_count": 3,
   "metadata": {},
   "outputs": [],
   "source": [
    "df_node2vec = pd.read_csv(\"../netflix_titles.csv\")\n",
    "df_node2vec = df_node2vec.dropna()\n",
    "df_node2vec.drop(\n",
    "    columns=[\n",
    "        \"director\",\n",
    "        \"cast\",\n",
    "        \"country\",\n",
    "        \"date_added\",\n",
    "        \"release_year\",\n",
    "        \"rating\",\n",
    "        \"duration\",\n",
    "        \"type\",\n",
    "    ],\n",
    "    inplace=True,\n",
    ")\n"
   ]
  },
  {
   "cell_type": "markdown",
   "metadata": {},
   "source": [
    "## Creating and analyzing Graph\n",
    "\n",
    "Now, we'll use networkx to create a graph with movie titles and genres as nodes. I used two different functions: -\n",
    "\n",
    "- addToGraph(movie name, graph): Adds an edge to the graph with the title and genres as nodes.\n",
    "- createGraph(): This function calls addToGraph for each movie title in order to generate a complete graph.\n"
   ]
  },
  {
   "cell_type": "code",
   "execution_count": 4,
   "metadata": {},
   "outputs": [],
   "source": [
    "# function that will create edges for given movie title and its genres\n",
    "def addToGraph(movie_name, graph):\n",
    "    genres = (\n",
    "        df_node2vec[df_node2vec[\"title\"] == movie_name][\"listed_in\"]\n",
    "        .values[0]\n",
    "        .rstrip()\n",
    "        .lower()\n",
    "        .split(\", \")\n",
    "    )\n",
    "    for genre in genres:\n",
    "        graph.add_edge(movie_name.strip(), genre)\n",
    "    return graph\n",
    "\n",
    "\n",
    "# function that will create graph for all the movies name\n",
    "def createGraph():\n",
    "    graph = nx.Graph()\n",
    "    for movie_name in df_node2vec[\"title\"]:\n",
    "        graph = addToGraph(movie_name, graph)\n",
    "    return graph\n"
   ]
  },
  {
   "cell_type": "code",
   "execution_count": 5,
   "metadata": {},
   "outputs": [],
   "source": [
    "graph = createGraph()\n"
   ]
  },
  {
   "cell_type": "code",
   "execution_count": 6,
   "metadata": {},
   "outputs": [
    {
     "name": "stdout",
     "output_type": "stream",
     "text": [
      "2\n",
      "1\n"
     ]
    }
   ],
   "source": [
    "# should be 2 since two genres are associated with it\n",
    "print(graph.degree()[\"Norm of the North: King Sized Adventure\"])\n",
    "# should be 1 since 1 genres are associated with it\n",
    "print(graph.degree()[\"#realityhigh\"])\n"
   ]
  },
  {
   "cell_type": "markdown",
   "metadata": {},
   "source": [
    "## Running Node2Vec\n",
    "\n",
    "Node2vec’s sampling strategy, accepts 4 arguments:\n",
    "\n",
    "- Number of walks: Number of random walks to be generated from each node in the graph\n",
    "- dimensions : Embedding dimensions\n",
    "- Walk length: How many nodes are in each random walk\n",
    "- P: Return hyperparameter\n",
    "- Q: Input hyperparameter\n"
   ]
  },
  {
   "cell_type": "code",
   "execution_count": 7,
   "metadata": {},
   "outputs": [
    {
     "name": "stderr",
     "output_type": "stream",
     "text": [
      "Computing transition probabilities: 100%|██████████| 5373/5373 [02:00<00:00, 44.47it/s] \n",
      "Generating walks (CPU: 1): 100%|██████████| 10/10 [01:26<00:00,  8.68s/it]\n"
     ]
    }
   ],
   "source": [
    "node2vec = Node2Vec(graph, dimensions=20, walk_length=16, num_walks=10)\n"
   ]
  },
  {
   "cell_type": "code",
   "execution_count": 8,
   "metadata": {},
   "outputs": [],
   "source": [
    "model = node2vec.fit(window=5, min_count=1)\n"
   ]
  },
  {
   "cell_type": "markdown",
   "metadata": {},
   "source": [
    "## See Embeddings\n",
    "\n",
    "Let's take a look at the values in embeddings.\n"
   ]
  },
  {
   "cell_type": "code",
   "execution_count": 9,
   "metadata": {},
   "outputs": [
    {
     "data": {
      "text/plain": [
       "array([-0.07528649,  0.32395372, -0.04905971,  0.3000146 ,  0.01165257,\n",
       "        0.6508559 ,  0.552389  ,  1.2716715 , -0.09399039,  0.47394162,\n",
       "       -0.03846619, -0.7954039 ,  0.7876637 , -0.8032726 ,  0.6878014 ,\n",
       "        0.02354643,  0.79975134,  0.6447317 , -1.0822569 , -0.20448099],\n",
       "      dtype=float32)"
      ]
     },
     "execution_count": 9,
     "metadata": {},
     "output_type": "execute_result"
    }
   ],
   "source": [
    "model.wv.get_vector(\"The Conjuring\")\n"
   ]
  },
  {
   "cell_type": "code",
   "execution_count": 10,
   "metadata": {},
   "outputs": [
    {
     "data": {
      "text/plain": [
       "array([-0.267572  ,  0.41998634, -0.10039267,  0.40691748,  0.24374427,\n",
       "        0.76195514,  0.710778  ,  1.2504964 , -0.20586337,  0.47253788,\n",
       "       -0.06752691, -0.962921  ,  0.80334276, -0.6394063 ,  0.64307296,\n",
       "        0.20696399,  0.75908184,  0.4785674 , -1.029885  , -0.21576826],\n",
       "      dtype=float32)"
      ]
     },
     "execution_count": 10,
     "metadata": {},
     "output_type": "execute_result"
    }
   ],
   "source": [
    "model.wv.get_vector(\"Insidious\")\n"
   ]
  },
  {
   "cell_type": "markdown",
   "metadata": {},
   "source": [
    "## Using Node2Vec Embeddings\n",
    "\n",
    "We will use the generated embeddings to recommend similar genres and movies.\n"
   ]
  },
  {
   "cell_type": "code",
   "execution_count": 11,
   "metadata": {},
   "outputs": [],
   "source": [
    "# generate similar movies to given genre or title\n",
    "def node2vec_recommender(name):\n",
    "    for node, _ in model.wv.most_similar(name):\n",
    "        print(node)\n"
   ]
  },
  {
   "cell_type": "markdown",
   "metadata": {},
   "source": [
    "## Movie Recommender using node2vec tool\n"
   ]
  },
  {
   "cell_type": "code",
   "execution_count": 12,
   "metadata": {},
   "outputs": [
    {
     "name": "stdout",
     "output_type": "stream",
     "text": [
      "The Haunting of Molly Hartley\n",
      "Paranormal Activity\n",
      "The Open House\n",
      "Malevolent\n",
      "All Light Will End\n",
      "The Charnel House\n",
      "The Bye Bye Man\n",
      "Cabin Fever\n",
      "The Ring\n",
      "Before I Wake\n"
     ]
    }
   ],
   "source": [
    "node2vec_recommender(\"Insidious\")\n"
   ]
  },
  {
   "cell_type": "code",
   "execution_count": 13,
   "metadata": {},
   "outputs": [
    {
     "name": "stdout",
     "output_type": "stream",
     "text": [
      "Knock Knock\n",
      "Insidious\n",
      "The Ring\n",
      "The Witch Files\n",
      "The Bye Bye Man\n",
      "Case 39\n",
      "The Open House\n",
      "Our House\n",
      "The Charnel House\n",
      "The Haunting of Molly Hartley\n"
     ]
    }
   ],
   "source": [
    "node2vec_recommender(\"The Conjuring\")\n"
   ]
  }
 ],
 "metadata": {
  "interpreter": {
   "hash": "e5513b5e87afed32b4b464a8318c068353290a7a894d9053f4736bf54073946e"
  },
  "kernelspec": {
   "display_name": "Python 3.8.10 ('Netflix-venv': venv)",
   "language": "python",
   "name": "python3"
  },
  "language_info": {
   "codemirror_mode": {
    "name": "ipython",
    "version": 3
   },
   "file_extension": ".py",
   "mimetype": "text/x-python",
   "name": "python",
   "nbconvert_exporter": "python",
   "pygments_lexer": "ipython3",
   "version": "3.8.10"
  },
  "orig_nbformat": 4
 },
 "nbformat": 4,
 "nbformat_minor": 2
}
