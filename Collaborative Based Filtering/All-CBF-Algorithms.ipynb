{
 "cells": [
  {
   "cell_type": "markdown",
   "metadata": {},
   "source": [
    "## Recommendation System using Pearson's Correlation\n"
   ]
  },
  {
   "cell_type": "code",
   "execution_count": null,
   "metadata": {},
   "outputs": [
    {
     "name": "stdout",
     "output_type": "stream",
     "text": [
      "Dataset shape: (17337458, 3)\n"
     ]
    }
   ],
   "source": [
    "# Skip date\n",
    "df = pd.read_csv(\"D:/Full_Data.csv\")\n",
    "df_title = pd.read_csv(\n",
    "    \"./movie_titles.csv\",\n",
    "    encoding=\"ISO-8859-1\",\n",
    "    header=None,\n",
    "    names=[\"Movie_Id\", \"Year\", \"Name\"],\n",
    ")\n",
    "df_title.set_index(\"Movie_Id\", inplace=True)\n",
    "print(\"Dataset shape: {}\".format(df.shape))\n"
   ]
  },
  {
   "cell_type": "code",
   "execution_count": null,
   "metadata": {},
   "outputs": [
    {
     "data": {
      "text/html": [
       "<div>\n",
       "<style scoped>\n",
       "    .dataframe tbody tr th:only-of-type {\n",
       "        vertical-align: middle;\n",
       "    }\n",
       "\n",
       "    .dataframe tbody tr th {\n",
       "        vertical-align: top;\n",
       "    }\n",
       "\n",
       "    .dataframe thead th {\n",
       "        text-align: right;\n",
       "    }\n",
       "</style>\n",
       "<table border=\"1\" class=\"dataframe\">\n",
       "  <thead>\n",
       "    <tr style=\"text-align: right;\">\n",
       "      <th></th>\n",
       "      <th>Cust_Id</th>\n",
       "      <th>Rating</th>\n",
       "      <th>Movie_Id</th>\n",
       "    </tr>\n",
       "  </thead>\n",
       "  <tbody>\n",
       "    <tr>\n",
       "      <th>0</th>\n",
       "      <td>712664</td>\n",
       "      <td>5.0</td>\n",
       "      <td>3</td>\n",
       "    </tr>\n",
       "    <tr>\n",
       "      <th>1</th>\n",
       "      <td>1331154</td>\n",
       "      <td>4.0</td>\n",
       "      <td>3</td>\n",
       "    </tr>\n",
       "    <tr>\n",
       "      <th>2</th>\n",
       "      <td>2632461</td>\n",
       "      <td>3.0</td>\n",
       "      <td>3</td>\n",
       "    </tr>\n",
       "    <tr>\n",
       "      <th>3</th>\n",
       "      <td>44937</td>\n",
       "      <td>5.0</td>\n",
       "      <td>3</td>\n",
       "    </tr>\n",
       "    <tr>\n",
       "      <th>4</th>\n",
       "      <td>656399</td>\n",
       "      <td>4.0</td>\n",
       "      <td>3</td>\n",
       "    </tr>\n",
       "  </tbody>\n",
       "</table>\n",
       "</div>"
      ],
      "text/plain": [
       "   Cust_Id  Rating  Movie_Id\n",
       "0   712664     5.0         3\n",
       "1  1331154     4.0         3\n",
       "2  2632461     3.0         3\n",
       "3    44937     5.0         3\n",
       "4   656399     4.0         3"
      ]
     },
     "metadata": {},
     "output_type": "display_data"
    }
   ],
   "source": [
    "df.head()\n"
   ]
  },
  {
   "cell_type": "code",
   "execution_count": null,
   "metadata": {},
   "outputs": [
    {
     "data": {
      "text/html": [
       "<div>\n",
       "<style scoped>\n",
       "    .dataframe tbody tr th:only-of-type {\n",
       "        vertical-align: middle;\n",
       "    }\n",
       "\n",
       "    .dataframe tbody tr th {\n",
       "        vertical-align: top;\n",
       "    }\n",
       "\n",
       "    .dataframe thead th {\n",
       "        text-align: right;\n",
       "    }\n",
       "</style>\n",
       "<table border=\"1\" class=\"dataframe\">\n",
       "  <thead>\n",
       "    <tr style=\"text-align: right;\">\n",
       "      <th></th>\n",
       "      <th>Year</th>\n",
       "      <th>Name</th>\n",
       "    </tr>\n",
       "    <tr>\n",
       "      <th>Movie_Id</th>\n",
       "      <th></th>\n",
       "      <th></th>\n",
       "    </tr>\n",
       "  </thead>\n",
       "  <tbody>\n",
       "    <tr>\n",
       "      <th>1</th>\n",
       "      <td>2003.0</td>\n",
       "      <td>Dinosaur Planet</td>\n",
       "    </tr>\n",
       "    <tr>\n",
       "      <th>2</th>\n",
       "      <td>2004.0</td>\n",
       "      <td>Isle of Man TT 2004 Review</td>\n",
       "    </tr>\n",
       "    <tr>\n",
       "      <th>3</th>\n",
       "      <td>1997.0</td>\n",
       "      <td>Character</td>\n",
       "    </tr>\n",
       "    <tr>\n",
       "      <th>4</th>\n",
       "      <td>1994.0</td>\n",
       "      <td>Paula Abdul's Get Up &amp; Dance</td>\n",
       "    </tr>\n",
       "    <tr>\n",
       "      <th>5</th>\n",
       "      <td>2004.0</td>\n",
       "      <td>The Rise and Fall of ECW</td>\n",
       "    </tr>\n",
       "  </tbody>\n",
       "</table>\n",
       "</div>"
      ],
      "text/plain": [
       "            Year                          Name\n",
       "Movie_Id                                      \n",
       "1         2003.0               Dinosaur Planet\n",
       "2         2004.0    Isle of Man TT 2004 Review\n",
       "3         1997.0                     Character\n",
       "4         1994.0  Paula Abdul's Get Up & Dance\n",
       "5         2004.0      The Rise and Fall of ECW"
      ]
     },
     "metadata": {},
     "output_type": "display_data"
    }
   ],
   "source": [
    "df_title.head()\n"
   ]
  },
  {
   "cell_type": "code",
   "execution_count": null,
   "metadata": {},
   "outputs": [],
   "source": [
    "f = [\"count\", \"mean\"]\n",
    "\n",
    "df_movie_summary = df.groupby(\"Movie_Id\")[\"Rating\"].agg(f)\n",
    "df_movie_summary.index = df_movie_summary.index.map(int)\n"
   ]
  },
  {
   "cell_type": "code",
   "execution_count": null,
   "metadata": {},
   "outputs": [
    {
     "data": {
      "text/plain": [
       "(143458, 1350)"
      ]
     },
     "metadata": {},
     "output_type": "display_data"
    }
   ],
   "source": [
    "df_p = pd.pivot_table(df, values=\"Rating\", index=\"Cust_Id\", columns=\"Movie_Id\")\n",
    "df_p.shape\n"
   ]
  },
  {
   "cell_type": "code",
   "execution_count": null,
   "metadata": {},
   "outputs": [],
   "source": [
    "def recommend(movie_title, min_count):\n",
    "    print(\"For movie ({})\".format(movie_title))\n",
    "    print(\"- Top 10 movies recommended based on Pearsons'R correlation - \")\n",
    "    i = int(df_title.index[df_title[\"Name\"] == movie_title][0])\n",
    "    target = df_p[i]\n",
    "    similar_to_target = df_p.corrwith(target)\n",
    "    corr_target = pd.DataFrame(similar_to_target, columns=[\"PearsonR\"])\n",
    "    corr_target.dropna(inplace=True)\n",
    "    corr_target = corr_target.sort_values(\"PearsonR\", ascending=False)\n",
    "    corr_target.index = corr_target.index.map(int)\n",
    "    corr_target = corr_target.join(df_title).join(df_movie_summary)[\n",
    "        [\"PearsonR\", \"Name\", \"count\", \"mean\"]\n",
    "    ]\n",
    "    print(corr_target[corr_target[\"count\"] > min_count][:10].to_string(index=False))\n"
   ]
  },
  {
   "cell_type": "code",
   "execution_count": null,
   "metadata": {},
   "outputs": [
    {
     "name": "stdout",
     "output_type": "stream",
     "text": [
      "For movie (X2: X-Men United)\n",
      "- Top 10 movies recommended based on Pearsons'R correlation - \n",
      " PearsonR                                                  Name  count     mean\n",
      " 1.000000                                      X2: X-Men United  73684 3.929157\n",
      " 0.384550                              Batman Beyond: The Movie   2275 3.730549\n",
      " 0.375967                                        Justice League   3049 3.692030\n",
      " 0.361393                      Justice League: Justice on Trial   2499 3.705482\n",
      " 0.338025                    Batman Beyond: Return of the Joker   3250 3.590769\n",
      " 0.335256                                         Batman Begins  37558 4.244315\n",
      " 0.328229                          Batman: Mask of the Phantasm   2523 3.753468\n",
      " 0.327040 Batman: The Animated Series: Tales of the Dark Knight   2179 3.581000\n",
      " 0.316666                       Dragon Ball Z: Super Android 13   1859 3.348037\n",
      " 0.316166                              Mortal Kombat: The Movie   6984 3.150200\n"
     ]
    }
   ],
   "source": [
    "recommend(\"X2: X-Men United\", 0)\n"
   ]
  },
  {
   "cell_type": "code",
   "execution_count": null,
   "metadata": {},
   "outputs": [
    {
     "name": "stdout",
     "output_type": "stream",
     "text": [
      "For movie (The Amityville Horror)\n",
      "- Top 10 movies recommended based on Pearsons'R correlation - \n",
      " PearsonR                                  Name  count     mean\n",
      " 1.000000                 The Amityville Horror  10492 3.448246\n",
      " 0.486752          Omen III: The Final Conflict   2779 3.170925\n",
      " 0.481592                    Holiday in the Sun   1468 3.297003\n",
      " 0.470641                  Children of the Corn  12498 3.212834\n",
      " 0.470275                                  Cujo  10676 3.296834\n",
      " 0.459427                       Damien: Omen II   4715 3.365005\n",
      " 0.454038 Children of the Corn 4: The Gathering   1863 2.334944\n",
      " 0.453149                             Inu-Yasha   1042 4.457774\n",
      " 0.445397                          Jo Jo Dancer   2061 2.961184\n",
      " 0.443583           Candyman 3: Day of the Dead   1734 2.839100\n"
     ]
    }
   ],
   "source": [
    "recommend(\"The Amityville Horror\", 0)\n"
   ]
  },
  {
   "cell_type": "markdown",
   "metadata": {},
   "source": [
    "## Recommendation System using Singular Value Decomposition (SVD)\n"
   ]
  },
  {
   "cell_type": "code",
   "execution_count": null,
   "metadata": {
    "_cell_guid": "046298b9-7ef7-4e68-aef2-a1fe316be5a0",
    "_uuid": "3bc39967a41f9ec3989f971c49916b822b0806b7",
    "id": "YtjLu9Dl2nYp"
   },
   "outputs": [],
   "source": [
    "import pandas as pd\n",
    "from surprise import Reader, Dataset, SVD\n",
    "from surprise.model_selection import cross_validate\n",
    "import time\n",
    "import warnings\n",
    "\n",
    "warnings.filterwarnings(\"ignore\")\n"
   ]
  },
  {
   "cell_type": "code",
   "execution_count": 2,
   "metadata": {
    "_cell_guid": "cec6d42b-adff-49c0-939c-2f92adae15a4",
    "_uuid": "d971e5a1ccd038f9a08e126daeb8995d30f9e014",
    "colab": {
     "base_uri": "https://localhost:8080/"
    },
    "id": "zIIMJ0S92nY1",
    "outputId": "a6db43e8-b692-4909-96df-9055b36125d7"
   },
   "outputs": [
    {
     "name": "stdout",
     "output_type": "stream",
     "text": [
      "Dataset shape: (9671171, 3)\n",
      "<class 'pandas.core.frame.DataFrame'>\n",
      "RangeIndex: 9671171 entries, 0 to 9671170\n",
      "Data columns (total 3 columns):\n",
      " #   Column    Dtype  \n",
      "---  ------    -----  \n",
      " 0   Cust_Id   int64  \n",
      " 1   Rating    float64\n",
      " 2   Movie_Id  int64  \n",
      "dtypes: float64(1), int64(2)\n",
      "memory usage: 221.4 MB\n"
     ]
    }
   ],
   "source": [
    "df = pd.read_csv(\"./Netflix-Prize-Dataset.csv\")\n",
    "# df = pd.read_csv(\"./Above-4-Rating.csv\")\n",
    "df_title = pd.read_csv(\n",
    "    \"./movie_titles.csv\",\n",
    "    encoding=\"ISO-8859-1\",\n",
    "    header=None,\n",
    "    names=[\"Movie_Id\", \"Year\", \"Name\"],\n",
    ")\n",
    "df_title.set_index(\"Movie_Id\", inplace=True)\n",
    "print(\"Dataset shape: {}\".format(df.shape))\n",
    "df.info()\n"
   ]
  },
  {
   "cell_type": "code",
   "execution_count": 3,
   "metadata": {},
   "outputs": [],
   "source": [
    "f = [\"count\", \"mean\"]\n",
    "\n",
    "df_movie_summary = df.groupby(\"Movie_Id\")[\"Rating\"].agg(f)\n",
    "df_movie_summary.index = df_movie_summary.index.map(int)\n",
    "movie_benchmark = round(df_movie_summary[\"count\"].quantile(0.7), 0)\n",
    "drop_movie_list = df_movie_summary[df_movie_summary[\"count\"] < movie_benchmark].index\n"
   ]
  },
  {
   "cell_type": "markdown",
   "metadata": {},
   "source": [
    "Let's pivot the data set and put it into a giant matrix - we need it for our recommendation system:\n"
   ]
  },
  {
   "cell_type": "code",
   "execution_count": 4,
   "metadata": {},
   "outputs": [
    {
     "data": {
      "text/plain": [
       "(143441, 1350)"
      ]
     },
     "execution_count": 4,
     "metadata": {},
     "output_type": "execute_result"
    }
   ],
   "source": [
    "df_p = pd.pivot_table(df, values=\"Rating\", index=\"Cust_Id\", columns=\"Movie_Id\")\n",
    "df_p.shape\n"
   ]
  },
  {
   "cell_type": "markdown",
   "metadata": {},
   "source": [
    "Below is what user 305344 liked in the past:\n"
   ]
  },
  {
   "cell_type": "code",
   "execution_count": 5,
   "metadata": {},
   "outputs": [
    {
     "data": {
      "text/plain": [
       "Movie_Id\n",
       "57        Richard III\n",
       "175    Reservoir Dogs\n",
       "311           Ed Wood\n",
       "329             Dogma\n",
       "331       Chasing Amy\n",
       "Name: Name, dtype: object"
      ]
     },
     "execution_count": 5,
     "metadata": {},
     "output_type": "execute_result"
    }
   ],
   "source": [
    "df_305344 = df[(df[\"Cust_Id\"] == 305344) & (df[\"Rating\"] == 5)]\n",
    "df_305344 = df_305344.set_index(\"Movie_Id\")\n",
    "df_305344 = df_305344.join(df_title)[\"Name\"]\n",
    "df_305344.head()\n"
   ]
  },
  {
   "cell_type": "code",
   "execution_count": 6,
   "metadata": {
    "_cell_guid": "fa414c7c-f908-40fa-bc99-9b221748c923",
    "_uuid": "a59aaac88ca121b93fcd8807e462dc7f0b609254",
    "colab": {
     "base_uri": "https://localhost:8080/"
    },
    "id": "AzjvncLQ2nY1",
    "outputId": "10987c43-2167-4f2b-f683-aaf8d6d45b11",
    "scrolled": true
   },
   "outputs": [
    {
     "name": "stdout",
     "output_type": "stream",
     "text": [
      "Evaluating RMSE, MAE of algorithm SVD on 5 split(s).\n",
      "\n",
      "                  Fold 1  Fold 2  Fold 3  Fold 4  Fold 5  Mean    Std     \n",
      "RMSE (testset)    0.4409  0.4408  0.4412  0.4408  0.4409  0.4409  0.0002  \n",
      "MAE (testset)     0.3769  0.3768  0.3769  0.3766  0.3766  0.3768  0.0001  \n",
      "Fit time          859.58  888.42  861.27  885.42  891.83  877.31  13.94   \n",
      "Test time         53.88   51.85   50.95   46.31   49.77   50.55   2.51    \n",
      "Time Taken For Running the Algorithm -->  4828.203\n"
     ]
    }
   ],
   "source": [
    "t0 = time.time()\n",
    "\n",
    "reader = Reader()\n",
    "data = Dataset.load_from_df(df[[\"Cust_Id\", \"Movie_Id\", \"Rating\"]][:], reader)\n",
    "svd = SVD()\n",
    "cross_validate(svd, data, measures=[\"RMSE\", \"MAE\"], verbose=True)\n",
    "\n",
    "train_time = round(time.time() - t0, 3)\n",
    "print(\"\\nTime Taken For Running the Algorithm --> \", train_time)"
   ]
  },
  {
   "cell_type": "markdown",
   "metadata": {
    "_cell_guid": "fac49661-d5d9-4d1d-a3f5-110220f18b89",
    "_uuid": "c18f9856722f273498b9192e2b722077b9d86962",
    "id": "9Wi1pzsB2nY2"
   },
   "source": [
    "Let's predict which movies user 305344 would love to watch:\n"
   ]
  },
  {
   "cell_type": "code",
   "execution_count": 7,
   "metadata": {
    "_cell_guid": "7da1d4f5-ef96-4f33-96ae-a66028f8926d",
    "_uuid": "6f47935958ad57c568fa58253a83452abe83fbed",
    "colab": {
     "base_uri": "https://localhost:8080/"
    },
    "id": "bRPo3rvz2nY2",
    "outputId": "2b9212c7-5ba2-4d8f-d956-759d7e622272"
   },
   "outputs": [
    {
     "name": "stdout",
     "output_type": "stream",
     "text": [
      "        Year                            Name  Estimate_Score\n",
      "2113  2002.0                         Firefly        4.745697\n",
      "1475  2004.0        Six Feet Under: Season 4        4.692134\n",
      "1255  1994.0     The Best of Friends: Vol. 4        4.677097\n",
      "2941  1999.0               Friends: Season 6        4.674388\n",
      "2101  1994.0          The Simpsons: Season 6        4.669048\n",
      "1494  2001.0                 Alias: Season 1        4.667504\n",
      "2802  1995.0             Pride and Prejudice        4.655969\n",
      "269   2001.0      Sex and the City: Season 4        4.645267\n",
      "4352  2002.0  Curb Your Enthusiasm: Season 3        4.638450\n",
      "3077  1994.0   The Best of Friends: Season 2        4.635281\n"
     ]
    }
   ],
   "source": [
    "user_305344 = df_title.copy()\n",
    "user_305344 = user_305344.reset_index()\n",
    "user_305344 = user_305344[~user_305344[\"Movie_Id\"].isin(drop_movie_list)]\n",
    "\n",
    "# getting full dataset\n",
    "data = Dataset.load_from_df(df[[\"Cust_Id\", \"Movie_Id\", \"Rating\"]], reader)\n",
    "\n",
    "trainset = data.build_full_trainset()\n",
    "svd.fit(trainset)\n",
    "\n",
    "user_305344[\"Estimate_Score\"] = user_305344[\"Movie_Id\"].apply(\n",
    "    lambda x: svd.predict(305344, x).est\n",
    ")\n",
    "\n",
    "user_305344 = user_305344.drop(\"Movie_Id\", axis=1)\n",
    "\n",
    "user_305344 = user_305344.sort_values(\"Estimate_Score\", ascending=False)\n",
    "print(user_305344.head(10))\n"
   ]
  },
  {
   "cell_type": "code",
   "execution_count": 8,
   "metadata": {},
   "outputs": [
    {
     "name": "stdout",
     "output_type": "stream",
     "text": [
      "        Year                                           Name  Estimate_Score\n",
      "1475  2004.0                       Six Feet Under: Season 4        4.762624\n",
      "2101  1994.0                         The Simpsons: Season 6        4.749856\n",
      "2113  2002.0                                        Firefly        4.734036\n",
      "1255  1994.0                    The Best of Friends: Vol. 4        4.711141\n",
      "2941  1999.0                              Friends: Season 6        4.707899\n",
      "1494  2001.0                                Alias: Season 1        4.703556\n",
      "2056  2001.0             Buffy the Vampire Slayer: Season 6        4.702866\n",
      "269   2001.0                     Sex and the City: Season 4        4.689796\n",
      "3443  2004.0          Family Guy: Freakin' Sweet Collection        4.673524\n",
      "2451  2001.0  Lord of the Rings: The Fellowship of the Ring        4.673046\n"
     ]
    }
   ],
   "source": [
    "user_387418 = df_title.copy()\n",
    "user_387418 = user_387418.reset_index()\n",
    "user_387418 = user_387418[~user_387418[\"Movie_Id\"].isin(drop_movie_list)]\n",
    "\n",
    "# getting full dataset\n",
    "data = Dataset.load_from_df(df[[\"Cust_Id\", \"Movie_Id\", \"Rating\"]], reader)\n",
    "\n",
    "trainset = data.build_full_trainset()\n",
    "svd.fit(trainset)\n",
    "\n",
    "user_387418[\"Estimate_Score\"] = user_387418[\"Movie_Id\"].apply(\n",
    "    lambda x: svd.predict(387418, x).est\n",
    ")\n",
    "\n",
    "user_387418 = user_387418.drop(\"Movie_Id\", axis=1)\n",
    "\n",
    "user_387418 = user_387418.sort_values(\"Estimate_Score\", ascending=False)\n",
    "print(user_387418.head(10))\n"
   ]
  },
  {
   "cell_type": "code",
   "execution_count": 9,
   "metadata": {},
   "outputs": [
    {
     "name": "stdout",
     "output_type": "stream",
     "text": [
      "        Year                                   Name  Estimate_Score\n",
      "2113  2002.0                                Firefly        4.932801\n",
      "2101  1994.0                 The Simpsons: Season 6        4.884873\n",
      "1475  2004.0               Six Feet Under: Season 4        4.878296\n",
      "2941  1999.0                      Friends: Season 6        4.876441\n",
      "3443  2004.0  Family Guy: Freakin' Sweet Collection        4.861074\n",
      "2056  2001.0     Buffy the Vampire Slayer: Season 6        4.857031\n",
      "1255  1994.0            The Best of Friends: Vol. 4        4.849698\n",
      "269   2001.0             Sex and the City: Season 4        4.846333\n",
      "1494  2001.0                        Alias: Season 1        4.837559\n",
      "4352  2002.0         Curb Your Enthusiasm: Season 3        4.825983\n"
     ]
    }
   ],
   "source": [
    "user_2439493 = df_title.copy()\n",
    "user_2439493 = user_2439493.reset_index()\n",
    "user_2439493 = user_2439493[~user_2439493[\"Movie_Id\"].isin(drop_movie_list)]\n",
    "\n",
    "# getting full dataset\n",
    "data = Dataset.load_from_df(df[[\"Cust_Id\", \"Movie_Id\", \"Rating\"]], reader)\n",
    "\n",
    "trainset = data.build_full_trainset()\n",
    "svd.fit(trainset)\n",
    "\n",
    "user_2439493[\"Estimate_Score\"] = user_2439493[\"Movie_Id\"].apply(\n",
    "    lambda x: svd.predict(2439493, x).est\n",
    ")\n",
    "\n",
    "user_2439493 = user_2439493.drop(\"Movie_Id\", axis=1)\n",
    "\n",
    "user_2439493 = user_2439493.sort_values(\"Estimate_Score\", ascending=False)\n",
    "print(user_2439493.head(10))\n"
   ]
  },
  {
   "cell_type": "code",
   "execution_count": 10,
   "metadata": {},
   "outputs": [
    {
     "data": {
      "text/plain": [
       "1664010    1250\n",
       "2118461    1205\n",
       "716173     1052\n",
       "794999      797\n",
       "303948      736\n",
       "Name: Cust_Id, dtype: int64"
      ]
     },
     "execution_count": 10,
     "metadata": {},
     "output_type": "execute_result"
    }
   ],
   "source": [
    "df[\"Cust_Id\"].value_counts(ascending=False).head()\n"
   ]
  }
 ],
 "metadata": {
  "colab": {
   "collapsed_sections": [],
   "name": "netflix-movie-recommendation.ipynb",
   "provenance": []
  },
  "kernelspec": {
   "display_name": "Python 3 (ipykernel)",
   "language": "python",
   "name": "python3"
  },
  "language_info": {
   "codemirror_mode": {
    "name": "ipython",
    "version": 3
   },
   "file_extension": ".py",
   "mimetype": "text/x-python",
   "name": "python",
   "nbconvert_exporter": "python",
   "pygments_lexer": "ipython3",
   "version": "3.8.10"
  }
 },
 "nbformat": 4,
 "nbformat_minor": 1
}
