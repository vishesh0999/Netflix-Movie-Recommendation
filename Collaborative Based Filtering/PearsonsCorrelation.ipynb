{
 "cells": [
  {
   "cell_type": "markdown",
   "metadata": {},
   "source": [
    "## Recommendation System using Pearson's Correlation\n"
   ]
  },
  {
   "cell_type": "code",
   "execution_count": null,
   "metadata": {},
   "outputs": [
    {
     "name": "stdout",
     "output_type": "stream",
     "text": [
      "Dataset shape: (17337458, 3)\n"
     ]
    }
   ],
   "source": [
    "import pandas as pd\n",
    "\n",
    "# Skip date\n",
    "df = pd.read_csv(\"D:/Full_Data.csv\")\n",
    "df_title = pd.read_csv(\n",
    "    \"./movie_titles.csv\",\n",
    "    encoding=\"ISO-8859-1\",\n",
    "    header=None,\n",
    "    names=[\"Movie_Id\", \"Year\", \"Name\"],\n",
    ")\n",
    "df_title.set_index(\"Movie_Id\", inplace=True)\n",
    "print(\"Dataset shape: {}\".format(df.shape))\n"
   ]
  },
  {
   "cell_type": "code",
   "execution_count": null,
   "metadata": {},
   "outputs": [
    {
     "data": {
      "text/html": [
       "<div>\n",
       "<style scoped>\n",
       "    .dataframe tbody tr th:only-of-type {\n",
       "        vertical-align: middle;\n",
       "    }\n",
       "\n",
       "    .dataframe tbody tr th {\n",
       "        vertical-align: top;\n",
       "    }\n",
       "\n",
       "    .dataframe thead th {\n",
       "        text-align: right;\n",
       "    }\n",
       "</style>\n",
       "<table border=\"1\" class=\"dataframe\">\n",
       "  <thead>\n",
       "    <tr style=\"text-align: right;\">\n",
       "      <th></th>\n",
       "      <th>Cust_Id</th>\n",
       "      <th>Rating</th>\n",
       "      <th>Movie_Id</th>\n",
       "    </tr>\n",
       "  </thead>\n",
       "  <tbody>\n",
       "    <tr>\n",
       "      <th>0</th>\n",
       "      <td>712664</td>\n",
       "      <td>5.0</td>\n",
       "      <td>3</td>\n",
       "    </tr>\n",
       "    <tr>\n",
       "      <th>1</th>\n",
       "      <td>1331154</td>\n",
       "      <td>4.0</td>\n",
       "      <td>3</td>\n",
       "    </tr>\n",
       "    <tr>\n",
       "      <th>2</th>\n",
       "      <td>2632461</td>\n",
       "      <td>3.0</td>\n",
       "      <td>3</td>\n",
       "    </tr>\n",
       "    <tr>\n",
       "      <th>3</th>\n",
       "      <td>44937</td>\n",
       "      <td>5.0</td>\n",
       "      <td>3</td>\n",
       "    </tr>\n",
       "    <tr>\n",
       "      <th>4</th>\n",
       "      <td>656399</td>\n",
       "      <td>4.0</td>\n",
       "      <td>3</td>\n",
       "    </tr>\n",
       "  </tbody>\n",
       "</table>\n",
       "</div>"
      ],
      "text/plain": [
       "   Cust_Id  Rating  Movie_Id\n",
       "0   712664     5.0         3\n",
       "1  1331154     4.0         3\n",
       "2  2632461     3.0         3\n",
       "3    44937     5.0         3\n",
       "4   656399     4.0         3"
      ]
     },
     "metadata": {},
     "output_type": "display_data"
    }
   ],
   "source": [
    "df.head()\n"
   ]
  },
  {
   "cell_type": "code",
   "execution_count": null,
   "metadata": {},
   "outputs": [
    {
     "data": {
      "text/html": [
       "<div>\n",
       "<style scoped>\n",
       "    .dataframe tbody tr th:only-of-type {\n",
       "        vertical-align: middle;\n",
       "    }\n",
       "\n",
       "    .dataframe tbody tr th {\n",
       "        vertical-align: top;\n",
       "    }\n",
       "\n",
       "    .dataframe thead th {\n",
       "        text-align: right;\n",
       "    }\n",
       "</style>\n",
       "<table border=\"1\" class=\"dataframe\">\n",
       "  <thead>\n",
       "    <tr style=\"text-align: right;\">\n",
       "      <th></th>\n",
       "      <th>Year</th>\n",
       "      <th>Name</th>\n",
       "    </tr>\n",
       "    <tr>\n",
       "      <th>Movie_Id</th>\n",
       "      <th></th>\n",
       "      <th></th>\n",
       "    </tr>\n",
       "  </thead>\n",
       "  <tbody>\n",
       "    <tr>\n",
       "      <th>1</th>\n",
       "      <td>2003.0</td>\n",
       "      <td>Dinosaur Planet</td>\n",
       "    </tr>\n",
       "    <tr>\n",
       "      <th>2</th>\n",
       "      <td>2004.0</td>\n",
       "      <td>Isle of Man TT 2004 Review</td>\n",
       "    </tr>\n",
       "    <tr>\n",
       "      <th>3</th>\n",
       "      <td>1997.0</td>\n",
       "      <td>Character</td>\n",
       "    </tr>\n",
       "    <tr>\n",
       "      <th>4</th>\n",
       "      <td>1994.0</td>\n",
       "      <td>Paula Abdul's Get Up &amp; Dance</td>\n",
       "    </tr>\n",
       "    <tr>\n",
       "      <th>5</th>\n",
       "      <td>2004.0</td>\n",
       "      <td>The Rise and Fall of ECW</td>\n",
       "    </tr>\n",
       "  </tbody>\n",
       "</table>\n",
       "</div>"
      ],
      "text/plain": [
       "            Year                          Name\n",
       "Movie_Id                                      \n",
       "1         2003.0               Dinosaur Planet\n",
       "2         2004.0    Isle of Man TT 2004 Review\n",
       "3         1997.0                     Character\n",
       "4         1994.0  Paula Abdul's Get Up & Dance\n",
       "5         2004.0      The Rise and Fall of ECW"
      ]
     },
     "metadata": {},
     "output_type": "display_data"
    }
   ],
   "source": [
    "df_title.head()\n"
   ]
  },
  {
   "cell_type": "code",
   "execution_count": null,
   "metadata": {},
   "outputs": [],
   "source": [
    "f = [\"count\", \"mean\"]\n",
    "\n",
    "df_movie_summary = df.groupby(\"Movie_Id\")[\"Rating\"].agg(f)\n",
    "df_movie_summary.index = df_movie_summary.index.map(int)\n"
   ]
  },
  {
   "cell_type": "code",
   "execution_count": null,
   "metadata": {},
   "outputs": [
    {
     "data": {
      "text/plain": [
       "(143458, 1350)"
      ]
     },
     "metadata": {},
     "output_type": "display_data"
    }
   ],
   "source": [
    "df_p = pd.pivot_table(df, values=\"Rating\", index=\"Cust_Id\", columns=\"Movie_Id\")\n",
    "df_p.shape\n"
   ]
  },
  {
   "cell_type": "code",
   "execution_count": null,
   "metadata": {},
   "outputs": [],
   "source": [
    "def recommend(movie_title, min_count):\n",
    "    print(\"For movie ({})\".format(movie_title))\n",
    "    print(\"- Top 10 movies recommended based on Pearsons'R correlation - \")\n",
    "    i = int(df_title.index[df_title[\"Name\"] == movie_title][0])\n",
    "    target = df_p[i]\n",
    "    similar_to_target = df_p.corrwith(target)\n",
    "    corr_target = pd.DataFrame(similar_to_target, columns=[\"PearsonR\"])\n",
    "    corr_target.dropna(inplace=True)\n",
    "    corr_target = corr_target.sort_values(\"PearsonR\", ascending=False)\n",
    "    corr_target.index = corr_target.index.map(int)\n",
    "    corr_target = corr_target.join(df_title).join(df_movie_summary)[\n",
    "        [\"PearsonR\", \"Name\", \"count\", \"mean\"]\n",
    "    ]\n",
    "    print(corr_target[corr_target[\"count\"] > min_count][:10].to_string(index=False))\n"
   ]
  },
  {
   "cell_type": "code",
   "execution_count": null,
   "metadata": {},
   "outputs": [
    {
     "name": "stdout",
     "output_type": "stream",
     "text": [
      "For movie (X2: X-Men United)\n",
      "- Top 10 movies recommended based on Pearsons'R correlation - \n",
      " PearsonR                                                  Name  count     mean\n",
      " 1.000000                                      X2: X-Men United  73684 3.929157\n",
      " 0.384550                              Batman Beyond: The Movie   2275 3.730549\n",
      " 0.375967                                        Justice League   3049 3.692030\n",
      " 0.361393                      Justice League: Justice on Trial   2499 3.705482\n",
      " 0.338025                    Batman Beyond: Return of the Joker   3250 3.590769\n",
      " 0.335256                                         Batman Begins  37558 4.244315\n",
      " 0.328229                          Batman: Mask of the Phantasm   2523 3.753468\n",
      " 0.327040 Batman: The Animated Series: Tales of the Dark Knight   2179 3.581000\n",
      " 0.316666                       Dragon Ball Z: Super Android 13   1859 3.348037\n",
      " 0.316166                              Mortal Kombat: The Movie   6984 3.150200\n"
     ]
    }
   ],
   "source": [
    "recommend(\"X2: X-Men United\", 0)\n"
   ]
  },
  {
   "cell_type": "code",
   "execution_count": null,
   "metadata": {},
   "outputs": [
    {
     "name": "stdout",
     "output_type": "stream",
     "text": [
      "For movie (The Amityville Horror)\n",
      "- Top 10 movies recommended based on Pearsons'R correlation - \n",
      " PearsonR                                  Name  count     mean\n",
      " 1.000000                 The Amityville Horror  10492 3.448246\n",
      " 0.486752          Omen III: The Final Conflict   2779 3.170925\n",
      " 0.481592                    Holiday in the Sun   1468 3.297003\n",
      " 0.470641                  Children of the Corn  12498 3.212834\n",
      " 0.470275                                  Cujo  10676 3.296834\n",
      " 0.459427                       Damien: Omen II   4715 3.365005\n",
      " 0.454038 Children of the Corn 4: The Gathering   1863 2.334944\n",
      " 0.453149                             Inu-Yasha   1042 4.457774\n",
      " 0.445397                          Jo Jo Dancer   2061 2.961184\n",
      " 0.443583           Candyman 3: Day of the Dead   1734 2.839100\n"
     ]
    }
   ],
   "source": [
    "recommend(\"The Amityville Horror\", 0)\n"
   ]
  }
 ],
 "metadata": {
  "interpreter": {
   "hash": "e5513b5e87afed32b4b464a8318c068353290a7a894d9053f4736bf54073946e"
  },
  "kernelspec": {
   "display_name": "Python 3.8.10 ('Netflix-venv': venv)",
   "language": "python",
   "name": "python3"
  },
  "language_info": {
   "codemirror_mode": {
    "name": "ipython",
    "version": 3
   },
   "file_extension": ".py",
   "mimetype": "text/x-python",
   "name": "python",
   "nbconvert_exporter": "python",
   "pygments_lexer": "ipython3",
   "version": "3.8.10"
  },
  "orig_nbformat": 4
 },
 "nbformat": 4,
 "nbformat_minor": 2
}
